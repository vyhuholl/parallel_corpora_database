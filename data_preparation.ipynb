{
  "nbformat": 4,
  "nbformat_minor": 0,
  "metadata": {
    "colab": {
      "name": "data_preparation.ipynb",
      "provenance": [],
      "collapsed_sections": []
    },
    "kernelspec": {
      "name": "python3",
      "display_name": "Python 3"
    },
    "accelerator": "GPU"
  },
  "cells": [
    {
      "cell_type": "code",
      "metadata": {
        "id": "r3jE3IZlbbAi",
        "colab_type": "code",
        "colab": {}
      },
      "source": [
        "from IPython.display import clear_output"
      ],
      "execution_count": 0,
      "outputs": []
    },
    {
      "cell_type": "code",
      "metadata": {
        "id": "89x4H23Vbd43",
        "colab_type": "code",
        "colab": {}
      },
      "source": [
        "!pip install pycodestyle flake8 pycodestyle_magic\n",
        "clear_output()"
      ],
      "execution_count": 0,
      "outputs": []
    },
    {
      "cell_type": "code",
      "metadata": {
        "id": "U9dVy-TbsA16",
        "colab_type": "code",
        "colab": {}
      },
      "source": [
        "%load_ext pycodestyle_magic"
      ],
      "execution_count": 0,
      "outputs": []
    },
    {
      "cell_type": "code",
      "metadata": {
        "id": "zN6EWlIK1tS-",
        "colab_type": "code",
        "colab": {}
      },
      "source": [
        "import re\n",
        "import time\n",
        "import pickle\n",
        "import pandas as pd\n",
        "import numpy as np\n",
        "from tqdm import tqdm\n",
        "from bs4 import BeautifulSoup\n",
        "from google.colab import files\n",
        "from unicodedata import normalize\n",
        "from urllib.request import urlopen, Request"
      ],
      "execution_count": 0,
      "outputs": []
    },
    {
      "cell_type": "markdown",
      "metadata": {
        "id": "D-xcSwuB8dnU",
        "colab_type": "text"
      },
      "source": [
        "## **Web crawling**"
      ]
    },
    {
      "cell_type": "code",
      "metadata": {
        "id": "DwZZueLd3lHA",
        "colab_type": "code",
        "colab": {}
      },
      "source": [
        "search_url = 'http://processing.ruscorpora.ru/search.xml?sort=i_grtagging&lang=ru&dpp=50&text=meta&mode=para&env=alpha&p='\n",
        "explain_url = 'http://processing.ruscorpora.ru/search-explan.xml?sort=i_grtagging&lang=ru&dpp=50&&mode=para&env=alpha&p='\n",
        "docinfo_url = '&text=document-info&language=ru&docid='"
      ],
      "execution_count": 0,
      "outputs": []
    },
    {
      "cell_type": "code",
      "metadata": {
        "id": "di4kRbxS4LUj",
        "colab_type": "code",
        "colab": {}
      },
      "source": [
        "texts_original = []\n",
        "texts_translated = []\n",
        "authors = []\n",
        "authors_rus = []\n",
        "second_authors = []\n",
        "second_authors_rus = []\n",
        "translators = []\n",
        "second_translators = []\n",
        "langs = []\n",
        "spheres = []\n",
        "creation_dates = []\n",
        "translation_dates = []\n",
        "sent_numbers = []\n",
        "token_numbers = []"
      ],
      "execution_count": 0,
      "outputs": []
    },
    {
      "cell_type": "code",
      "metadata": {
        "id": "s1ZsW_1s32m1",
        "colab_type": "code",
        "colab": {}
      },
      "source": [
        "count = 0\n",
        "\n",
        "for page_nbr in tqdm(range(55)):\n",
        "    page = urlopen(Request(url=search_url + str(page_nbr))).read()\n",
        "    page_parsed = BeautifulSoup(page, 'html.parser')\n",
        "    tags = page_parsed.find_all('span', class_='b-doc-expl')\n",
        "    for tag in tqdm(tags):\n",
        "        text_original = np.nan\n",
        "        text_translated = np.nan\n",
        "        author = np.nan\n",
        "        second_author = np.nan\n",
        "        author_translated = np.nan\n",
        "        second_author_translated = np.nan\n",
        "        translator = np.nan\n",
        "        second_translator = np.nan\n",
        "        lang_from = np.nan\n",
        "        lang_to = np.nan\n",
        "        lang = np.nan\n",
        "        sphere = np.nan\n",
        "        creation_date = np.nan\n",
        "        translation_date = np.nan\n",
        "        sent_number = np.nan\n",
        "        token_number = np.nan\n",
        "        docinfo = urlopen(Request(url=explain_url + str(page_nbr) +\n",
        "                                  docinfo_url + tag['explain'])).read()\n",
        "        docinfo_parsed = BeautifulSoup(docinfo, 'html.parser')\n",
        "        table = docinfo_parsed.find('table')\n",
        "        rows = table.find_all('tr')\n",
        "        for row in rows:\n",
        "            tds = row.find_all('td')\n",
        "            key, value = tds[0].get_text(), tds[1].get_text()\n",
        "            if key == 'Автор':\n",
        "                value = re.sub(r'\\(\\d+\\)', '', value)\n",
        "                match = re.search(r'(.*)\\((.*)\\)', value)\n",
        "                authors_ = match.group(1).split(',')\n",
        "                authors_translated = match.group(2).split(',')\n",
        "                author = authors_[0].strip()\n",
        "                author_translated = authors_translated[0].strip()\n",
        "                if len(authors_) > 1:\n",
        "                    second_author = authors_[1].strip()\n",
        "                if len(authors_translated) > 1:\n",
        "                    second_author_translated = authors_translated[1].strip()\n",
        "            elif key == 'Название':\n",
        "                value = value.replace('(1)', '1')\n",
        "                value = value.replace('(2)', '2')\n",
        "                value = value.replace('(3)', '3')\n",
        "                match = re.search(r'(.*)\\((.*)\\)', value)\n",
        "                text_original = match.group(1).strip()\n",
        "                text_translated = match.group(2).strip()\n",
        "            elif key == 'Дата создания':\n",
        "                value = re.sub(r'\\(\\d*\\)', '', value)\n",
        "                value = re.sub(r' \\| \\d*', '', value)\n",
        "                value = re.sub(r'\\.\\d*', '', value)\n",
        "                value = re.sub(r'\\d*-', '', value)\n",
        "                creation_date = int(value)\n",
        "            elif key == 'Сфера функционирования':\n",
        "                sphere = value\n",
        "            elif key == 'Предложений':\n",
        "                sent_number = int(value)\n",
        "            elif key == 'Словоформ':\n",
        "                token_number = int(value)\n",
        "            elif key == 'Язык':\n",
        "                lang_from = value\n",
        "            elif key == 'Переводчик':\n",
        "                value = re.sub(r'\\(\\d+\\)', '', value)\n",
        "                translators_ = value.split(',')\n",
        "                translator = translators_[0].strip()\n",
        "                if len(translators_) > 1:\n",
        "                    second_translator = translators_[1].strip()\n",
        "            elif key == 'Язык перевода':\n",
        "                lang_to = value\n",
        "            elif key == 'Год перевода':\n",
        "                value = re.sub(r'\\(\\d*\\)', '', value)\n",
        "                value = re.sub(r' \\| \\d*', '', value)\n",
        "                value = re.sub(r'\\d*-', '', value)\n",
        "                value = re.sub(r'\\.\\d*', '', value)\n",
        "                translation_date = int(value)\n",
        "        if lang_from == np.nan and lang_to == np.nan:\n",
        "            continue\n",
        "        authors.append(author)\n",
        "        second_authors.append(second_author)\n",
        "        if lang_from == 'rus':\n",
        "            lang = lang_to\n",
        "            authors_rus.append(author)\n",
        "            second_authors_rus.append(second_author)\n",
        "        elif lang_to == 'rus':\n",
        "            lang = lang_from\n",
        "            authors_rus.append(author_translated)\n",
        "            second_authors_rus.append(second_author_translated)\n",
        "        langs.append(lang)\n",
        "        spheres.append(sphere)\n",
        "        texts_original.append(text_original)\n",
        "        texts_translated.append(text_translated)\n",
        "        translators.append(translator)\n",
        "        second_translators.append(second_translator)\n",
        "        creation_dates.append(creation_date)\n",
        "        translation_dates.append(translation_date)\n",
        "        sent_numbers.append(sent_number)\n",
        "        token_numbers.append(token_number)\n",
        "        count += 1\n",
        "        print(f'\\n\\n  {count} texts parsed.')\n",
        "        time.sleep(2)\n",
        "\n",
        "clear_output()"
      ],
      "execution_count": 0,
      "outputs": []
    },
    {
      "cell_type": "code",
      "metadata": {
        "id": "CjIT3JM0rJEt",
        "colab_type": "code",
        "colab": {}
      },
      "source": [
        "with open('texts_original.pkl', 'wb') as f:\n",
        "    pickle.dump(texts_original, f)\n",
        "\n",
        "with open('texts_translated.pkl', 'wb') as f:\n",
        "    pickle.dump(texts_translated, f)\n",
        "\n",
        "with open('authors.pkl', 'wb') as f:\n",
        "    pickle.dump(authors, f)\n",
        "\n",
        "with open('authors_rus.pkl', 'wb') as f:\n",
        "    pickle.dump(authors_rus, f)\n",
        "\n",
        "with open('second_authors.pkl', 'wb') as f:\n",
        "    pickle.dump(second_authors, f)\n",
        "\n",
        "with open('second_authors_rus.pkl', 'wb') as f:\n",
        "    pickle.dump(second_authors_rus, f)\n",
        "\n",
        "with open('translators.pkl', 'wb') as f:\n",
        "    pickle.dump(translators, f)\n",
        "\n",
        "with open('second_translators.pkl', 'wb') as f:\n",
        "    pickle.dump(second_translators, f)\n",
        "\n",
        "with open('langs.pkl', 'wb') as f:\n",
        "    pickle.dump(langs, f)\n",
        "\n",
        "with open('spheres.pkl', 'wb') as f:\n",
        "    pickle.dump(spheres, f)\n",
        "\n",
        "with open('creation_dates.pkl', 'wb') as f:\n",
        "    pickle.dump(creation_dates, f)\n",
        "\n",
        "with open('translation_dates.pkl', 'wb') as f:\n",
        "    pickle.dump(translation_dates, f)\n",
        "\n",
        "with open('sent_numbers.pkl', 'wb') as f:\n",
        "    pickle.dump(sent_numbers, f)\n",
        "\n",
        "with open('token_numbers.pkl', 'wb') as f:\n",
        "    pickle.dump(token_numbers, f)"
      ],
      "execution_count": 0,
      "outputs": []
    },
    {
      "cell_type": "code",
      "metadata": {
        "id": "WEKCHXQNtYdL",
        "colab_type": "code",
        "colab": {}
      },
      "source": [
        "!tar -cvzf db_corpora_data.tar.gz *.pkl\n",
        "clear_output()"
      ],
      "execution_count": 0,
      "outputs": []
    },
    {
      "cell_type": "code",
      "metadata": {
        "id": "Sh0vQgXouORt",
        "colab_type": "code",
        "colab": {}
      },
      "source": [
        "files.download('db_corpora_data.tar.gz')"
      ],
      "execution_count": 0,
      "outputs": []
    },
    {
      "cell_type": "markdown",
      "metadata": {
        "id": "LbdRPIVY8mna",
        "colab_type": "text"
      },
      "source": [
        "## **Код, открывающий полученные выше pkl-файлы**"
      ]
    },
    {
      "cell_type": "code",
      "metadata": {
        "id": "r8GMup7QBxge",
        "colab_type": "code",
        "colab": {}
      },
      "source": [
        "!wget https://github.com/vyhuholl/parallel_corpora_database/raw/master/data/db_corpora_data.tar.gz\n",
        "clear_output()"
      ],
      "execution_count": 0,
      "outputs": []
    },
    {
      "cell_type": "code",
      "metadata": {
        "id": "xPjglhkY_67j",
        "colab_type": "code",
        "outputId": "579f41d3-5f5f-4c0c-c436-e5698874546d",
        "colab": {
          "base_uri": "https://localhost:8080/",
          "height": 255
        }
      },
      "source": [
        "!tar xvzf db_corpora_data.tar.gz"
      ],
      "execution_count": 6,
      "outputs": [
        {
          "output_type": "stream",
          "text": [
            "authors.pkl\n",
            "authors_rus.pkl\n",
            "creation_dates.pkl\n",
            "langs.pkl\n",
            "second_authors.pkl\n",
            "second_authors_rus.pkl\n",
            "second_translators.pkl\n",
            "sent_numbers.pkl\n",
            "spheres.pkl\n",
            "texts_original.pkl\n",
            "texts_translated.pkl\n",
            "token_numbers.pkl\n",
            "translation_dates.pkl\n",
            "translators.pkl\n"
          ],
          "name": "stdout"
        }
      ]
    },
    {
      "cell_type": "code",
      "metadata": {
        "id": "27wiBx3IB9E6",
        "colab_type": "code",
        "colab": {}
      },
      "source": [
        "!rm db_corpora_data.tar.gz"
      ],
      "execution_count": 0,
      "outputs": []
    },
    {
      "cell_type": "code",
      "metadata": {
        "id": "Q7ZfN8gSAWWh",
        "colab_type": "code",
        "colab": {}
      },
      "source": [
        "with open('texts_original.pkl', 'rb') as f:\n",
        "    texts_original = pickle.load(f)\n",
        "\n",
        "with open('texts_translated.pkl', 'rb') as f:\n",
        "    texts_translated = pickle.load(f)\n",
        "\n",
        "with open('authors.pkl', 'rb') as f:\n",
        "    authors = pickle.load(f)\n",
        "\n",
        "with open('authors_rus.pkl', 'rb') as f:\n",
        "    authors_rus = pickle.load(f)\n",
        "\n",
        "with open('second_authors.pkl', 'rb') as f:\n",
        "    second_authors = pickle.load(f)\n",
        "\n",
        "with open('second_authors_rus.pkl', 'rb') as f:\n",
        "    second_authors_rus = pickle.load(f)\n",
        "\n",
        "with open('translators.pkl', 'rb') as f:\n",
        "    translators = pickle.load(f)\n",
        "\n",
        "with open('second_translators.pkl', 'rb') as f:\n",
        "    second_translators = pickle.load(f)\n",
        "\n",
        "with open('langs.pkl', 'rb') as f:\n",
        "    langs = pickle.load(f)\n",
        "\n",
        "with open('spheres.pkl', 'rb') as f:\n",
        "    spheres = pickle.load(f)\n",
        "\n",
        "with open('creation_dates.pkl', 'rb') as f:\n",
        "    creation_dates = pickle.load(f)\n",
        "\n",
        "with open('translation_dates.pkl', 'rb') as f:\n",
        "    translation_dates = pickle.load(f)\n",
        "\n",
        "with open('sent_numbers.pkl', 'rb') as f:\n",
        "    sents_numbers = pickle.load(f)\n",
        "\n",
        "with open('token_numbers.pkl', 'rb') as f:\n",
        "    tokens_numbers = pickle.load(f)"
      ],
      "execution_count": 0,
      "outputs": []
    },
    {
      "cell_type": "markdown",
      "metadata": {
        "id": "YnL4JN6wgCHP",
        "colab_type": "text"
      },
      "source": [
        "## **Data cleaning**"
      ]
    },
    {
      "cell_type": "code",
      "metadata": {
        "id": "eetQBMtEg0hj",
        "colab_type": "code",
        "colab": {}
      },
      "source": [
        "for i in range(len(authors)):\n",
        "    if type(authors[i]) == float:\n",
        "        continue\n",
        "    authors[i] = normalize('NFKD', authors[i])\n",
        "    authors[i] = authors[i].strip('(')\n",
        "    authors[i] = authors[i].strip(')')\n",
        "    authors[i] = authors[i].strip('[')\n",
        "    authors[i] = authors[i].strip(']')\n",
        "    authors[i] = authors[i].strip('.')\n",
        "    authors[i] = authors[i].replace(normalize(\n",
        "        'NFKD', ' (Die Brüder Karamasow'), '')\n",
        "    authors[i] = authors[i].replace('_', ' ')\n",
        "    authors[i] = authors[i].replace(' и др', '')\n",
        "    authors[i] = authors[i].replace('\\ufeff', '')\n",
        "    authors[i] = authors[i].replace('(BZgA', '(BZgA)')\n",
        "    authors[i] = authors[i].replace(' (Г. Е. Аронов', '')\n",
        "    authors[i] = authors[i].replace(' (Anna Karenina', '')\n",
        "    authors[i] = authors[i].replace(' (Carlos Salvador) (TURESPAÑA', '')\n",
        "    authors[i] = re.sub(r'([А-ЯA-ZЁ]\\.)([А-ЯA-ZЁ])', r'\\1 \\2', authors[i])\n",
        "    authors[i] = re.sub(r'([А-ЯA-ZЁ]\\.)([А-ЯA-ZЁ])', r'\\1 \\2', authors[i])"
      ],
      "execution_count": 0,
      "outputs": []
    },
    {
      "cell_type": "code",
      "metadata": {
        "id": "KGqxTarK0Vp1",
        "colab_type": "code",
        "colab": {}
      },
      "source": [
        "to_replace = {'': np.nan,\n",
        "    'EDIТORIAL FISA ESCUDO DE ORO S. A': 'EDITORIAL FISA ESCUDO DE ORO',\n",
        "    'Vladimir Nabokov': 'Владимир Набоков',\n",
        "    'Іван Котлярівський': 'Іван Котляревський',\n",
        "    'Алесь Адамович': 'Алесь Адамовіч',\n",
        "    'Борис Гринченко': 'Борис Грінченко',\n",
        "    'В. В. Набоков': 'Владимир Набоков',\n",
        "    'Григорий Квитка-Основьяненко': \"Григорій Квітка-Основ'яненко\",\n",
        "    'И. А. Гончаров': 'Иван Гончаров',\n",
        "    'М. Горький': 'Максим Горький',\n",
        "    'М. А. Булгаков': 'Михаил Булгаков',\n",
        "    'М. М. Бахтин': 'Михаил Бахтин',\n",
        "    'Н. В. Гоголь': 'Николай Гоголь',\n",
        "    'Народная казка': 'Народна казка',\n",
        "    'С. А. Алексиевич': 'Светлана Алексиевич',\n",
        "    'С. В. Михалков': 'Сергей Михалков',\n",
        "    'С. Д. Довлатов': 'Сергей Довлатов',\n",
        "    'С. Козлов': 'С. Г. Козлов',\n",
        "    'Т. Г. Шевченко': 'Тарас Шевченко',\n",
        "    'Ю. Нікітін': 'Ю. Никитин'\n",
        "}"
      ],
      "execution_count": 0,
      "outputs": []
    },
    {
      "cell_type": "code",
      "metadata": {
        "id": "xvt7d76ogMH7",
        "colab_type": "code",
        "colab": {}
      },
      "source": [
        "authors = [to_replace[elem] if elem in to_replace else elem for elem in authors]"
      ],
      "execution_count": 0,
      "outputs": []
    },
    {
      "cell_type": "code",
      "metadata": {
        "id": "jrWwqBFV9D79",
        "colab_type": "code",
        "colab": {}
      },
      "source": [
        "for i in range(len(authors_rus)):\n",
        "    if type(authors_rus[i]) == float:\n",
        "        continue\n",
        "    authors_rus[i] = normalize('NFKD', authors_rus[i])\n",
        "    authors_rus[i] = authors_rus[i].strip(')')\n",
        "    authors_rus[i] = authors_rus[i].strip('[')\n",
        "    authors_rus[i] = authors_rus[i].strip(']')\n",
        "    authors_rus[i] = authors_rus[i].strip('.')\n",
        "    authors_rus[i] = re.sub(r'([А-ЯA-ZЁ]\\.)([А-ЯA-ZЁ])',\n",
        "                            r'\\1 \\2', authors_rus[i])\n",
        "    authors_rus[i] = re.sub(r'([А-ЯA-ZЁ]\\.)([А-ЯA-ZЁ])',\n",
        "                            r'\\1 \\2', authors_rus[i])\n",
        "    authors_rus[i] = authors_rus[i].replace(normalize(\n",
        "        'NFKD', ' (Die Brüder Karamasow'), '')\n",
        "    authors_rus[i] = authors_rus[i].replace(' и др', '')\n",
        "    authors_rus[i] = authors_rus[i].replace(' (Г. Е. Аронов', '')\n",
        "    authors_rus[i] = authors_rus[i].replace(' (Anna Karenina', '')\n",
        "    authors_rus[i] = authors_rus[i].replace(' (Carlos Salvador) (TURESPAÑA', '')"
      ],
      "execution_count": 0,
      "outputs": []
    },
    {
      "cell_type": "code",
      "metadata": {
        "id": "NwMgJ9ul-1rb",
        "colab_type": "code",
        "colab": {}
      },
      "source": [
        "to_replace = {'': np.nan,\n",
        "              'EDITORIAL FISA ESCUDO DE ORO': 'Издательство \"EDITORIAL FISA ESCUDO DE ORO S. A.\"',\n",
        "              'Издательство \"EDIТORIAL FISA ESCUDO DE ORO S. A.\"': 'Издательство \"EDITORIAL FISA ESCUDO DE ORO S. A.\"',\n",
        "              'В. В. Набоков': 'Владимир Набоков',\n",
        "              'И. А. Бунин': 'Иван Бунин',\n",
        "              'И. А. Гончаров': 'Иван Гончаров',\n",
        "              'М. А. Булгаков': 'Михаил Булгаков',\n",
        "              'М. М. Бахтин': 'Михаил Бахтин',\n",
        "              'М. Горький': 'Максим Горький',\n",
        "              'Микола Хвылевой': 'Микола Хвылевый',\n",
        "              'Н. В. Гоголь': 'Николай Гоголь',\n",
        "              'Народна сказка': 'Народная сказка',\n",
        "              'С. А. Алексиевич': 'Светлана Алексиевич',\n",
        "              'С. В. Михалков': 'Сергей Михалков',\n",
        "              'С. Д. Довлатов': 'Сергей Довлатов',\n",
        "              'С. Козлов': 'С. Г. Козлов',\n",
        "              'Т. Г. Шевченко': 'Тарас Шевченко',\n",
        "              'Ю. Нікітін': 'Ю. Никитин'\n",
        "}"
      ],
      "execution_count": 0,
      "outputs": []
    },
    {
      "cell_type": "code",
      "metadata": {
        "id": "ZzyqzX1TB51R",
        "colab_type": "code",
        "colab": {}
      },
      "source": [
        "authors_rus = [to_replace[elem] if elem in to_replace else elem\n",
        "               for elem in authors_rus]"
      ],
      "execution_count": 0,
      "outputs": []
    },
    {
      "cell_type": "code",
      "metadata": {
        "id": "99JwKXq_Cy8h",
        "colab_type": "code",
        "colab": {}
      },
      "source": [
        "for i in range(len(second_authors)):\n",
        "    if type(second_authors[i]) == float:\n",
        "        continue\n",
        "    second_authors[i] = normalize('NFKD', second_authors[i])\n",
        "    second_authors[i] = second_authors[i].strip('(')\n",
        "    second_authors[i] = second_authors[i].strip(')')\n",
        "    second_authors[i] = second_authors[i].strip('[')\n",
        "    second_authors[i] = second_authors[i].strip(']')\n",
        "    second_authors[i] = second_authors[i].strip('.')\n",
        "    second_authors[i] = second_authors[i].replace(' и др', '')\n",
        "    second_authors[i] = second_authors[i].replace(\n",
        "        ' [перевод с английского повести Э. Хемингуэя', '')"
      ],
      "execution_count": 0,
      "outputs": []
    },
    {
      "cell_type": "code",
      "metadata": {
        "id": "FK_tCJVlDn22",
        "colab_type": "code",
        "colab": {}
      },
      "source": [
        "to_replace = {'': np.nan,\n",
        "    'пересказ повести А. А. Милна': 'A. A. Milne',\n",
        "    'пересказ повести П. Трэверс': 'P. L. Travers',\n",
        "    'Том Доннелли': 'Tom Donnelly',\n",
        "    'Эрнст Вельтеке': 'Ernst Welteke'\n",
        "}"
      ],
      "execution_count": 0,
      "outputs": []
    },
    {
      "cell_type": "code",
      "metadata": {
        "id": "IfYRy5WaEdRC",
        "colab_type": "code",
        "colab": {}
      },
      "source": [
        "second_authors = [to_replace[elem] if elem in to_replace else elem\n",
        "                  for elem in second_authors]"
      ],
      "execution_count": 0,
      "outputs": []
    },
    {
      "cell_type": "code",
      "metadata": {
        "id": "jyceUz3CHQVF",
        "colab_type": "code",
        "colab": {}
      },
      "source": [
        "for i in range(len(second_authors_rus)):\n",
        "    if type(second_authors_rus[i]) == float:\n",
        "        continue\n",
        "    second_authors_rus[i] = normalize('NFKD', second_authors_rus[i])\n",
        "    second_authors_rus[i] = second_authors_rus[i].strip('(')\n",
        "    second_authors_rus[i] = second_authors_rus[i].strip(')')\n",
        "    second_authors_rus[i] = second_authors_rus[i].strip('[')\n",
        "    second_authors_rus[i] = second_authors_rus[i].strip(']')\n",
        "    second_authors_rus[i] = second_authors_rus[i].strip('.')\n",
        "    second_authors_rus[i] = second_authors_rus[i].replace(' и др', '')\n",
        "    second_authors_rus[i] = second_authors_rus[i].replace(\n",
        "        ' [перевод с английского повести Э. Хемингуэя', '')"
      ],
      "execution_count": 0,
      "outputs": []
    },
    {
      "cell_type": "code",
      "metadata": {
        "id": "2wzsXtJKHozZ",
        "colab_type": "code",
        "colab": {}
      },
      "source": [
        "to_replace = {'': np.nan,\n",
        "    'пересказ повести А. А. Милна': 'А. А. Милн',\n",
        "    'пересказ повести П. Трэверс': 'П. Трэверс',\n",
        "}"
      ],
      "execution_count": 0,
      "outputs": []
    },
    {
      "cell_type": "code",
      "metadata": {
        "id": "Dpz2YAzYICkS",
        "colab_type": "code",
        "colab": {}
      },
      "source": [
        "second_authors_rus = [to_replace[elem] if elem in to_replace else elem\n",
        "                      for elem in second_authors_rus]"
      ],
      "execution_count": 0,
      "outputs": []
    },
    {
      "cell_type": "code",
      "metadata": {
        "id": "y1Bn5YPjJYAy",
        "colab_type": "code",
        "colab": {}
      },
      "source": [
        "for i in range(len(translators)):\n",
        "    if type(translators[i]) == float:\n",
        "        continue\n",
        "    translators[i] = normalize('NFKD', translators[i])\n",
        "    if not (' / ' in translators[i] or translators[i].startswith('http')):\n",
        "        translators[i] = translators[i].split('/')[0]\n",
        "    if translators[i].find('inosmi.ru') != -1:\n",
        "        translators[i] = 'inosmi.ru'\n",
        "    translators[i] = translators[i].replace('_', ' ')\n",
        "    translators[i] = translators[i].replace(' (?)', '')\n",
        "    translators[i] = re.sub(r'([А-ЯA-ZЁ]\\.)([А-ЯA-ZЁ])',\n",
        "                            r'\\1 \\2', translators[i])\n",
        "    translators[i] = re.sub(r'([А-ЯA-ZЁ]\\.)([А-ЯA-ZЁ])',\n",
        "                            r'\\1 \\2', translators[i])\n",
        "    translators[i] = translators[i].replace(' (Современник', '')\n",
        "    translators[i] = translators[i].strip()"
      ],
      "execution_count": 0,
      "outputs": []
    },
    {
      "cell_type": "code",
      "metadata": {
        "id": "QMYx9pANJCRu",
        "colab_type": "code",
        "colab": {}
      },
      "source": [
        "to_replace = {'': np.nan, '/': np.nan,\n",
        "              'H. Волжина': 'Н. Волжина',\n",
        "              'Inosmi.ru': 'inosmi.ru',\n",
        "              'http://www.happydoctor.ru/': 'www.happydoctor.ru',\n",
        "              'Vladimir Nabokov': 'Владимир Набоков',\n",
        "              'А. Жук': 'Алесь Жук',\n",
        "              'В. Набоков': 'Владимир Набоков',\n",
        "              'В. Щедрина': 'Валентина Щедрина',\n",
        "              'ГАИ усилит контроль за соблюдением ПДД на дорогах Беларуси': np.nan,\n",
        "              'Г. Киселев': 'Геннадий Киселев',\n",
        "              'Г. Петников': 'Григорий Петников',\n",
        "              'Е. Костюкович': 'Елена Костюкович',\n",
        "              'Ж. Эзит': 'Жанна Эзит',\n",
        "              'И. Карабутенко': 'Иван Карабутенко',\n",
        "              'ИноСМИ': 'inosmi.ru',\n",
        "              'И. Шкаровская': 'Ирина Шкаровская',\n",
        "              'Кирила Георгиева': 'Кирил Георгиев',\n",
        "              'Л. Блюмфильд': 'Л. Блюмфельд',\n",
        "              'Л. Салавей': 'Леў Салавей',\n",
        "              'Лев Соловей': 'Леў Салавей',\n",
        "              'Леся Украинка': 'Леся Українка',\n",
        "              'Л. Кремнева': 'Людмила Кремнева',\n",
        "              'М. Горбачев': 'М. Горбачёв',\n",
        "              'М. Пригара': 'Мария Пригара',\n",
        "              'Н. Вольпин': 'Н. Д. Вольпин',\n",
        "              'Н. Чуковский': 'Н. К. Чуковский',\n",
        "              'Народная сказка': np.nan,\n",
        "              'Р. Райт-Ковалева': 'Р. Райт-Ковалёва',\n",
        "              'С 25 марта \"Белавиа\" переходит на летнее расписание рейсов': np.nan,\n",
        "              'С. Апт': 'С. К. Апт',\n",
        "              normalize('NFKD', 'Трамвай Вар’ят'): np.nan,\n",
        "              'Христо Радески': 'Христо Радевски',\n",
        "              'Ю. Абызов': 'Юрий Абызов',\n",
        "              'Ю. Каппе': 'Ю. С. Каппе',\n",
        "              'Ю. Яхнина': 'Ю. Я. Яхнина',\n",
        "              'Եսայան Դ. / Esayan D.': 'Եսայան Դորա / Esayan Dora'\n",
        "}"
      ],
      "execution_count": 0,
      "outputs": []
    },
    {
      "cell_type": "code",
      "metadata": {
        "id": "eDKamk4cRJPo",
        "colab_type": "code",
        "colab": {}
      },
      "source": [
        "translators = [to_replace[elem] if elem in to_replace else elem\n",
        "               for elem in translators]"
      ],
      "execution_count": 0,
      "outputs": []
    },
    {
      "cell_type": "code",
      "metadata": {
        "id": "EOojY2w_R7_G",
        "colab_type": "code",
        "colab": {}
      },
      "source": [
        "for i in range(len(second_translators)):\n",
        "    if type(second_translators[i]) == float:\n",
        "        continue\n",
        "    second_translators[i] = normalize('NFKD', second_translators[i])\n",
        "    second_translators[i] = second_translators[i].replace('1838 г.)', '')\n",
        "    second_translators[i] = re.sub(r'([А-ЯA-ZЁ]\\.)([А-ЯA-ZЁ])',\n",
        "                            r'\\1 \\2', second_translators[i])\n",
        "    second_translators[i] = re.sub(r'([А-ЯA-ZЁ]\\.)([А-ЯA-ZЁ])',\n",
        "                            r'\\1 \\2', second_translators[i])"
      ],
      "execution_count": 0,
      "outputs": []
    },
    {
      "cell_type": "code",
      "metadata": {
        "id": "DPj_3G40Rs-c",
        "colab_type": "code",
        "colab": {}
      },
      "source": [
        "to_replace = {'': np.nan,\n",
        "              'Michel-R. de Hoffmann': 'Michel-Rostislav Hofmann',\n",
        "              'Vladimir Nabokov': 'Владимир Набоков',\n",
        "              'К. Старосельская': 'К. Я. Старосельская',\n",
        "              'М. Горбачев': 'М. Горбачёв',\n",
        "              'Н. Тренева': 'Н. К. Тренева',\n",
        "              'Ю. Абызов': 'Юрий Абызов',\n",
        "              'Ю. Каппе': 'Ю. С. Каппе',\n",
        "              'Ю. Яхнина': 'Ю. Я. Яхнина',\n",
        "}"
      ],
      "execution_count": 0,
      "outputs": []
    },
    {
      "cell_type": "code",
      "metadata": {
        "id": "1kFADWJQcly0",
        "colab_type": "code",
        "colab": {}
      },
      "source": [
        "second_translators = [to_replace[elem] if elem in to_replace else elem\n",
        "                      for elem in second_translators]"
      ],
      "execution_count": 0,
      "outputs": []
    },
    {
      "cell_type": "code",
      "metadata": {
        "id": "ysJR542RgvuU",
        "colab_type": "code",
        "colab": {}
      },
      "source": [
        "texts_original = np.array(\n",
        "    [normalize('NFKD', elem) for elem in texts_original])\n",
        "texts_translated = np.array(\n",
        "    [normalize('NFKD', elem) for elem in texts_translated])\n",
        "\n",
        "authors = np.array(authors).astype(str)\n",
        "authors_rus = np.array(authors_rus).astype(str)\n",
        "second_authors = np.array(second_authors).astype(str)\n",
        "second_authors_rus = np.array(second_authors_rus).astype(str)\n",
        "translators = np.array(translators).astype(str)\n",
        "second_translators = np.array(second_translators).astype(str)\n",
        "\n",
        "langs = np.array(langs)\n",
        "spheres = np.array(spheres)\n",
        "\n",
        "creation_dates = np.array(np.nan_to_num(\n",
        "    creation_dates, nan=-1)).astype(int)\n",
        "translation_dates = np.array(np.nan_to_num(\n",
        "    translation_dates, nan=-1)).astype(int)\n",
        "\n",
        "sents_numbers = np.array(sents_numbers)\n",
        "tokens_numbers = np.array(tokens_numbers)"
      ],
      "execution_count": 0,
      "outputs": []
    },
    {
      "cell_type": "markdown",
      "metadata": {
        "id": "7lh-GZ0CdSZL",
        "colab_type": "text"
      },
      "source": [
        "## **Building tables**"
      ]
    },
    {
      "cell_type": "code",
      "metadata": {
        "id": "QOxNgM73FYLK",
        "colab_type": "code",
        "colab": {}
      },
      "source": [
        "lang_names = np.array(['eng', 'arm', 'bash', 'bel', 'bul', 'bua',\n",
        "                       'esp', 'ita', 'zho', 'lav', 'lit', 'ger',\n",
        "                       'pol', 'ukr', 'fra', 'fin', 'cze', 'sve', 'est'])"
      ],
      "execution_count": 0,
      "outputs": []
    },
    {
      "cell_type": "code",
      "metadata": {
        "id": "XiB5F6PcdqDx",
        "colab_type": "code",
        "colab": {}
      },
      "source": [
        "lang_to_id = {lang_names[i]: i + 1 for i in range(len(lang_names))}\n",
        "lang_to_id[np.nan] = 0"
      ],
      "execution_count": 0,
      "outputs": []
    },
    {
      "cell_type": "code",
      "metadata": {
        "id": "3fFm_hB_fb-t",
        "colab_type": "code",
        "colab": {}
      },
      "source": [
        "author_names = np.union1d(authors, second_authors)\n",
        "author_names = author_names[author_names != 'nan']"
      ],
      "execution_count": 0,
      "outputs": []
    },
    {
      "cell_type": "code",
      "metadata": {
        "id": "mcsK_8UPgsbS",
        "colab_type": "code",
        "colab": {}
      },
      "source": [
        "author_to_id = {author_names[i]: i + 1 for i in range(len(author_names))}\n",
        "author_to_id['nan'] = 0"
      ],
      "execution_count": 0,
      "outputs": []
    },
    {
      "cell_type": "code",
      "metadata": {
        "id": "-V4mrhnzgy6J",
        "colab_type": "code",
        "colab": {}
      },
      "source": [
        "translator_names = np.union1d(translators, second_translators)\n",
        "translator_names = translator_names[translator_names != 'nan']"
      ],
      "execution_count": 0,
      "outputs": []
    },
    {
      "cell_type": "code",
      "metadata": {
        "id": "seb6N51yjeXm",
        "colab_type": "code",
        "colab": {}
      },
      "source": [
        "translator_to_id = {translator_names[i]: i + 1\n",
        "                    for i in range(len(translator_names))}\n",
        "translator_to_id['nan'] = 0"
      ],
      "execution_count": 0,
      "outputs": []
    },
    {
      "cell_type": "code",
      "metadata": {
        "id": "c8fMWRbAAWAn",
        "colab_type": "code",
        "colab": {}
      },
      "source": [
        "corp_data = {'lang': lang_names,\n",
        "             'texts_number': [],\n",
        "             'sents_number': [],\n",
        "             'tokens_number': [],\n",
        "             'tokens_percent': []\n",
        "             }\n",
        "\n",
        "text_data = {'corpus_id': [],\n",
        "             'author_id': [],\n",
        "             'second_author_id': [],\n",
        "             'translator_id': [],\n",
        "             'second_translator_id': [],\n",
        "             'name_original': texts_original,\n",
        "             'name_translated': texts_translated,\n",
        "             'sphere': spheres,\n",
        "             'creation_date': creation_dates,\n",
        "             'translation_date': translation_dates,\n",
        "             'sents_number': sents_numbers,\n",
        "             'tokens_number': tokens_numbers\n",
        "             }\n",
        "\n",
        "auth_data = {'name': author_names,\n",
        "             'name_rus': [],\n",
        "             'texts_number': [],\n",
        "             'texts_percent': []\n",
        "             }\n",
        "\n",
        "tran_data = {'name': translator_names,\n",
        "             'texts_number': [],\n",
        "             'texts_percent': []\n",
        "             }"
      ],
      "execution_count": 0,
      "outputs": []
    },
    {
      "cell_type": "markdown",
      "metadata": {
        "id": "QaqNk9_aQO7M",
        "colab_type": "text"
      },
      "source": [
        "### **Texts table**"
      ]
    },
    {
      "cell_type": "code",
      "metadata": {
        "id": "pFOkLHzgyNJB",
        "colab_type": "code",
        "colab": {}
      },
      "source": [
        "text_data['corpus_id'] = np.array([lang_to_id[elem] for elem in langs])\n",
        "\n",
        "text_data['author_id'] = np.array([author_to_id[elem]\n",
        "                                   for elem in authors])\n",
        "text_data['second_author_id'] = np.array([author_to_id[elem]\n",
        "                                          for elem in second_authors])\n",
        "\n",
        "text_data['translator_id'] = np.array([translator_to_id[elem]\n",
        "                                       for elem in translators])\n",
        "text_data['second_translator_id'] = np.array([translator_to_id[elem]\n",
        "                                              for elem in second_translators])"
      ],
      "execution_count": 0,
      "outputs": []
    },
    {
      "cell_type": "code",
      "metadata": {
        "id": "9xTcp9rlJ991",
        "colab_type": "code",
        "colab": {}
      },
      "source": [
        "texts_df = pd.DataFrame.from_dict(text_data)\n",
        "texts_df.index = np.arange(1, len(texts_df) + 1)"
      ],
      "execution_count": 0,
      "outputs": []
    },
    {
      "cell_type": "code",
      "metadata": {
        "id": "2GazTgcnKL6b",
        "colab_type": "code",
        "outputId": "2896f6b4-15c9-4f40-9f7c-dfba381a0e0e",
        "colab": {
          "base_uri": "https://localhost:8080/",
          "height": 479
        }
      },
      "source": [
        "texts_df.head()"
      ],
      "execution_count": 37,
      "outputs": [
        {
          "output_type": "execute_result",
          "data": {
            "text/html": [
              "<div>\n",
              "<style scoped>\n",
              "    .dataframe tbody tr th:only-of-type {\n",
              "        vertical-align: middle;\n",
              "    }\n",
              "\n",
              "    .dataframe tbody tr th {\n",
              "        vertical-align: top;\n",
              "    }\n",
              "\n",
              "    .dataframe thead th {\n",
              "        text-align: right;\n",
              "    }\n",
              "</style>\n",
              "<table border=\"1\" class=\"dataframe\">\n",
              "  <thead>\n",
              "    <tr style=\"text-align: right;\">\n",
              "      <th></th>\n",
              "      <th>corpus_id</th>\n",
              "      <th>author_id</th>\n",
              "      <th>second_author_id</th>\n",
              "      <th>translator_id</th>\n",
              "      <th>second_translator_id</th>\n",
              "      <th>name_original</th>\n",
              "      <th>name_translated</th>\n",
              "      <th>sphere</th>\n",
              "      <th>creation_date</th>\n",
              "      <th>translation_date</th>\n",
              "      <th>sents_number</th>\n",
              "      <th>tokens_number</th>\n",
              "    </tr>\n",
              "  </thead>\n",
              "  <tbody>\n",
              "    <tr>\n",
              "      <th>1</th>\n",
              "      <td>1</td>\n",
              "      <td>3</td>\n",
              "      <td>0</td>\n",
              "      <td>196</td>\n",
              "      <td>0</td>\n",
              "      <td>Preventing the Balkanization of the Internet [...</td>\n",
              "      <td>Как предотвратить балканизацию интернета</td>\n",
              "      <td>нехудожественная, публицистика</td>\n",
              "      <td>2018</td>\n",
              "      <td>2018</td>\n",
              "      <td>72</td>\n",
              "      <td>1720</td>\n",
              "    </tr>\n",
              "    <tr>\n",
              "      <th>2</th>\n",
              "      <td>1</td>\n",
              "      <td>4</td>\n",
              "      <td>0</td>\n",
              "      <td>196</td>\n",
              "      <td>0</td>\n",
              "      <td>The reality behind Putin’s fire and fury [The ...</td>\n",
              "      <td>Что кроется за путинским гневом и пламенем</td>\n",
              "      <td>нехудожественная, публицистика</td>\n",
              "      <td>2018</td>\n",
              "      <td>2018</td>\n",
              "      <td>66</td>\n",
              "      <td>1416</td>\n",
              "    </tr>\n",
              "    <tr>\n",
              "      <th>3</th>\n",
              "      <td>1</td>\n",
              "      <td>17</td>\n",
              "      <td>0</td>\n",
              "      <td>196</td>\n",
              "      <td>0</td>\n",
              "      <td>Chechnya’s leader uses World Cup to extend his...</td>\n",
              "      <td>Руководитель Чечни воспользовался ЧМ-2018 для ...</td>\n",
              "      <td>нехудожественная, публицистика</td>\n",
              "      <td>2018</td>\n",
              "      <td>2018</td>\n",
              "      <td>86</td>\n",
              "      <td>1906</td>\n",
              "    </tr>\n",
              "    <tr>\n",
              "      <th>4</th>\n",
              "      <td>1</td>\n",
              "      <td>21</td>\n",
              "      <td>0</td>\n",
              "      <td>196</td>\n",
              "      <td>0</td>\n",
              "      <td>Israeli intervention in US elections ‘vastly o...</td>\n",
              "      <td>Вмешательство Израиля в американские выборы за...</td>\n",
              "      <td>нехудожественная, публицистика</td>\n",
              "      <td>2018</td>\n",
              "      <td>2018</td>\n",
              "      <td>46</td>\n",
              "      <td>1210</td>\n",
              "    </tr>\n",
              "    <tr>\n",
              "      <th>5</th>\n",
              "      <td>1</td>\n",
              "      <td>23</td>\n",
              "      <td>0</td>\n",
              "      <td>196</td>\n",
              "      <td>0</td>\n",
              "      <td>Rome and Moscow Fight for Control of Eastern O...</td>\n",
              "      <td>Рим и Москва борются за контроль над православ...</td>\n",
              "      <td>нехудожественная, публицистика</td>\n",
              "      <td>2018</td>\n",
              "      <td>2018</td>\n",
              "      <td>74</td>\n",
              "      <td>1532</td>\n",
              "    </tr>\n",
              "  </tbody>\n",
              "</table>\n",
              "</div>"
            ],
            "text/plain": [
              "   corpus_id  author_id  ...  sents_number  tokens_number\n",
              "1          1          3  ...            72           1720\n",
              "2          1          4  ...            66           1416\n",
              "3          1         17  ...            86           1906\n",
              "4          1         21  ...            46           1210\n",
              "5          1         23  ...            74           1532\n",
              "\n",
              "[5 rows x 12 columns]"
            ]
          },
          "metadata": {
            "tags": []
          },
          "execution_count": 37
        }
      ]
    },
    {
      "cell_type": "code",
      "metadata": {
        "id": "3K3daMC1OQF3",
        "colab_type": "code",
        "colab": {}
      },
      "source": [
        "texts_df.to_csv('texts.csv')"
      ],
      "execution_count": 0,
      "outputs": []
    },
    {
      "cell_type": "code",
      "metadata": {
        "id": "bUt5jjr0OufY",
        "colab_type": "code",
        "colab": {}
      },
      "source": [
        "files.download('texts.csv')"
      ],
      "execution_count": 0,
      "outputs": []
    },
    {
      "cell_type": "markdown",
      "metadata": {
        "id": "VOT7VOc2RDIf",
        "colab_type": "text"
      },
      "source": [
        "### **Corpora table**"
      ]
    },
    {
      "cell_type": "code",
      "metadata": {
        "id": "l1lM61-SRIVl",
        "colab_type": "code",
        "colab": {}
      },
      "source": [
        "total = np.sum(texts_df['tokens_number'])\n",
        "\n",
        "corp_data['texts_number'] = np.array(\n",
        "    texts_df['corpus_id'].value_counts().sort_index())\n",
        "\n",
        "corp_data['sents_number'] = np.array(\n",
        "    texts_df.groupby('corpus_id').aggregate(np.sum)['sents_number'])\n",
        "\n",
        "corp_data['tokens_number'] = np.array(\n",
        "    texts_df.groupby('corpus_id').aggregate(np.sum)['tokens_number'])\n",
        "\n",
        "corp_data['tokens_percent'] = np.array(\n",
        "    texts_df.groupby('corpus_id').aggregate(np.sum)['tokens_number'] / total)"
      ],
      "execution_count": 0,
      "outputs": []
    },
    {
      "cell_type": "code",
      "metadata": {
        "id": "jdBo0JQhYrU1",
        "colab_type": "code",
        "colab": {}
      },
      "source": [
        "corpora_df = pd.DataFrame.from_dict(corp_data)\n",
        "corpora_df.index = np.arange(1, len(corpora_df) + 1)"
      ],
      "execution_count": 0,
      "outputs": []
    },
    {
      "cell_type": "code",
      "metadata": {
        "id": "L8w0abUdadwd",
        "colab_type": "code",
        "outputId": "21472d90-6862-4655-f173-5f32ad062ce0",
        "colab": {
          "base_uri": "https://localhost:8080/",
          "height": 204
        }
      },
      "source": [
        "corpora_df.head()"
      ],
      "execution_count": 42,
      "outputs": [
        {
          "output_type": "execute_result",
          "data": {
            "text/html": [
              "<div>\n",
              "<style scoped>\n",
              "    .dataframe tbody tr th:only-of-type {\n",
              "        vertical-align: middle;\n",
              "    }\n",
              "\n",
              "    .dataframe tbody tr th {\n",
              "        vertical-align: top;\n",
              "    }\n",
              "\n",
              "    .dataframe thead th {\n",
              "        text-align: right;\n",
              "    }\n",
              "</style>\n",
              "<table border=\"1\" class=\"dataframe\">\n",
              "  <thead>\n",
              "    <tr style=\"text-align: right;\">\n",
              "      <th></th>\n",
              "      <th>lang</th>\n",
              "      <th>texts_number</th>\n",
              "      <th>sents_number</th>\n",
              "      <th>tokens_number</th>\n",
              "      <th>tokens_percent</th>\n",
              "    </tr>\n",
              "  </thead>\n",
              "  <tbody>\n",
              "    <tr>\n",
              "      <th>1</th>\n",
              "      <td>eng</td>\n",
              "      <td>677</td>\n",
              "      <td>1852353</td>\n",
              "      <td>28363771</td>\n",
              "      <td>0.289153</td>\n",
              "    </tr>\n",
              "    <tr>\n",
              "      <th>2</th>\n",
              "      <td>arm</td>\n",
              "      <td>28</td>\n",
              "      <td>188336</td>\n",
              "      <td>2211635</td>\n",
              "      <td>0.022546</td>\n",
              "    </tr>\n",
              "    <tr>\n",
              "      <th>3</th>\n",
              "      <td>bash</td>\n",
              "      <td>124</td>\n",
              "      <td>124246</td>\n",
              "      <td>550286</td>\n",
              "      <td>0.005610</td>\n",
              "    </tr>\n",
              "    <tr>\n",
              "      <th>4</th>\n",
              "      <td>bel</td>\n",
              "      <td>286</td>\n",
              "      <td>1108749</td>\n",
              "      <td>10855454</td>\n",
              "      <td>0.110666</td>\n",
              "    </tr>\n",
              "    <tr>\n",
              "      <th>5</th>\n",
              "      <td>bul</td>\n",
              "      <td>42</td>\n",
              "      <td>306763</td>\n",
              "      <td>3774650</td>\n",
              "      <td>0.038481</td>\n",
              "    </tr>\n",
              "  </tbody>\n",
              "</table>\n",
              "</div>"
            ],
            "text/plain": [
              "   lang  texts_number  sents_number  tokens_number  tokens_percent\n",
              "1   eng           677       1852353       28363771        0.289153\n",
              "2   arm            28        188336        2211635        0.022546\n",
              "3  bash           124        124246         550286        0.005610\n",
              "4   bel           286       1108749       10855454        0.110666\n",
              "5   bul            42        306763        3774650        0.038481"
            ]
          },
          "metadata": {
            "tags": []
          },
          "execution_count": 42
        }
      ]
    },
    {
      "cell_type": "code",
      "metadata": {
        "id": "try2nYF7ajfC",
        "colab_type": "code",
        "colab": {}
      },
      "source": [
        "corpora_df.to_csv('corpora.csv')"
      ],
      "execution_count": 0,
      "outputs": []
    },
    {
      "cell_type": "code",
      "metadata": {
        "id": "Q-kvJTWDao53",
        "colab_type": "code",
        "colab": {}
      },
      "source": [
        "files.download('corpora.csv')"
      ],
      "execution_count": 0,
      "outputs": []
    },
    {
      "cell_type": "markdown",
      "metadata": {
        "id": "NydHLxBBa8ce",
        "colab_type": "text"
      },
      "source": [
        "### **Authors table**"
      ]
    },
    {
      "cell_type": "code",
      "metadata": {
        "id": "qNF-SZjRd3r-",
        "colab_type": "code",
        "colab": {}
      },
      "source": [
        "authors_all = list(authors) + list(second_authors)\n",
        "authors_all_rus = list(authors_rus) + list(second_authors_rus)\n",
        "\n",
        "clean = [authors_all[i] for i in range(len(authors_all))\n",
        "         if authors_all[i] != 'nan' and authors_all_rus[i] != 'nan']\n",
        "\n",
        "clean_rus = [authors_all_rus[i] for i in range(len(authors_all))\n",
        "             if authors_all[i] != 'nan' and authors_all_rus[i] != 'nan']"
      ],
      "execution_count": 0,
      "outputs": []
    },
    {
      "cell_type": "code",
      "metadata": {
        "id": "3Ky-GSxJcivf",
        "colab_type": "code",
        "colab": {}
      },
      "source": [
        "auth_data['name_rus'] = np.array([clean_rus[clean.index(name)]\n",
        "                                  if name in clean else np.nan\n",
        "                                  for name in author_names]).astype(str)"
      ],
      "execution_count": 0,
      "outputs": []
    },
    {
      "cell_type": "code",
      "metadata": {
        "id": "fXGf-j3qOCiF",
        "colab_type": "code",
        "colab": {}
      },
      "source": [
        "value_counts_1 = texts_df['author_id'].value_counts()\n",
        "value_counts_2 = texts_df['second_author_id'].value_counts()\n",
        "\n",
        "id_counts_1 = [value_counts_1[x] if x in value_counts_1 else 0\n",
        "               for x in range(1, 720)]\n",
        "id_counts_2 = [value_counts_2[x] if x in value_counts_2 else 0\n",
        "               for x in range(1, 720)]\n",
        "\n",
        "id_counts_total = [x + y for x, y in zip(id_counts_1, id_counts_2)]"
      ],
      "execution_count": 0,
      "outputs": []
    },
    {
      "cell_type": "code",
      "metadata": {
        "id": "wN7k8AnoLLD_",
        "colab_type": "code",
        "colab": {}
      },
      "source": [
        "auth_data['texts_number'] = np.array(id_counts_total)"
      ],
      "execution_count": 0,
      "outputs": []
    },
    {
      "cell_type": "code",
      "metadata": {
        "id": "ShYGjnA8SOIc",
        "colab_type": "code",
        "colab": {}
      },
      "source": [
        "total = np.sum(auth_data['texts_number'])\n",
        "\n",
        "auth_data['texts_percent'] = auth_data['texts_number'] / total"
      ],
      "execution_count": 0,
      "outputs": []
    },
    {
      "cell_type": "code",
      "metadata": {
        "id": "2KuXwXOqMEd2",
        "colab_type": "code",
        "colab": {}
      },
      "source": [
        "authors_df = pd.DataFrame.from_dict(auth_data)\n",
        "authors_df.index = np.arange(1, len(authors_df) + 1)"
      ],
      "execution_count": 0,
      "outputs": []
    },
    {
      "cell_type": "code",
      "metadata": {
        "id": "1e4YB969MPcs",
        "colab_type": "code",
        "colab": {
          "base_uri": "https://localhost:8080/",
          "height": 204
        },
        "outputId": "e3459df6-e5de-4799-bdd6-306b51e0c185"
      },
      "source": [
        "authors_df.head()"
      ],
      "execution_count": 53,
      "outputs": [
        {
          "output_type": "execute_result",
          "data": {
            "text/html": [
              "<div>\n",
              "<style scoped>\n",
              "    .dataframe tbody tr th:only-of-type {\n",
              "        vertical-align: middle;\n",
              "    }\n",
              "\n",
              "    .dataframe tbody tr th {\n",
              "        vertical-align: top;\n",
              "    }\n",
              "\n",
              "    .dataframe thead th {\n",
              "        text-align: right;\n",
              "    }\n",
              "</style>\n",
              "<table border=\"1\" class=\"dataframe\">\n",
              "  <thead>\n",
              "    <tr style=\"text-align: right;\">\n",
              "      <th></th>\n",
              "      <th>name</th>\n",
              "      <th>name_rus</th>\n",
              "      <th>texts_number</th>\n",
              "      <th>texts_percent</th>\n",
              "    </tr>\n",
              "  </thead>\n",
              "  <tbody>\n",
              "    <tr>\n",
              "      <th>1</th>\n",
              "      <td>4th Earl of Chesterfield</td>\n",
              "      <td>nan</td>\n",
              "      <td>1</td>\n",
              "      <td>0.000380</td>\n",
              "    </tr>\n",
              "    <tr>\n",
              "      <th>2</th>\n",
              "      <td>A. A. Milne</td>\n",
              "      <td>Алан Александр Милн</td>\n",
              "      <td>3</td>\n",
              "      <td>0.001141</td>\n",
              "    </tr>\n",
              "    <tr>\n",
              "      <th>3</th>\n",
              "      <td>A. Michael Spence</td>\n",
              "      <td>nan</td>\n",
              "      <td>1</td>\n",
              "      <td>0.000380</td>\n",
              "    </tr>\n",
              "    <tr>\n",
              "      <th>4</th>\n",
              "      <td>AUREL BRAUN</td>\n",
              "      <td>nan</td>\n",
              "      <td>1</td>\n",
              "      <td>0.000380</td>\n",
              "    </tr>\n",
              "    <tr>\n",
              "      <th>5</th>\n",
              "      <td>Adalbert Stifter</td>\n",
              "      <td>Адальберт Штифтер</td>\n",
              "      <td>7</td>\n",
              "      <td>0.002663</td>\n",
              "    </tr>\n",
              "  </tbody>\n",
              "</table>\n",
              "</div>"
            ],
            "text/plain": [
              "                       name             name_rus  texts_number  texts_percent\n",
              "1  4th Earl of Chesterfield                  nan             1       0.000380\n",
              "2               A. A. Milne  Алан Александр Милн             3       0.001141\n",
              "3         A. Michael Spence                  nan             1       0.000380\n",
              "4               AUREL BRAUN                  nan             1       0.000380\n",
              "5          Adalbert Stifter    Адальберт Штифтер             7       0.002663"
            ]
          },
          "metadata": {
            "tags": []
          },
          "execution_count": 53
        }
      ]
    },
    {
      "cell_type": "code",
      "metadata": {
        "id": "fPggpjb-MVHh",
        "colab_type": "code",
        "colab": {}
      },
      "source": [
        "authors_df.to_csv('authors.csv')"
      ],
      "execution_count": 0,
      "outputs": []
    },
    {
      "cell_type": "code",
      "metadata": {
        "id": "TIRJ2D1oMa08",
        "colab_type": "code",
        "colab": {}
      },
      "source": [
        "files.download('authors.csv')"
      ],
      "execution_count": 0,
      "outputs": []
    },
    {
      "cell_type": "markdown",
      "metadata": {
        "id": "ZFF3FFanNMv5",
        "colab_type": "text"
      },
      "source": [
        "### **Translators table**"
      ]
    },
    {
      "cell_type": "code",
      "metadata": {
        "id": "KinixU6XNh5V",
        "colab_type": "code",
        "colab": {}
      },
      "source": [
        "value_counts_1 = texts_df['translator_id'].value_counts()\n",
        "value_counts_2 = texts_df['second_translator_id'].value_counts()\n",
        "\n",
        "id_counts_1 = [value_counts_1[x] if x in value_counts_1 else 0\n",
        "               for x in range(1, 811)]\n",
        "id_counts_2 = [value_counts_2[x] if x in value_counts_2 else 0\n",
        "               for x in range(1, 811)]\n",
        "\n",
        "id_counts_total = [x + y for x, y in zip(id_counts_1, id_counts_2)]"
      ],
      "execution_count": 0,
      "outputs": []
    },
    {
      "cell_type": "code",
      "metadata": {
        "id": "KsCaaol-ReLl",
        "colab_type": "code",
        "colab": {}
      },
      "source": [
        "tran_data['texts_number'] = np.array(id_counts_total)"
      ],
      "execution_count": 0,
      "outputs": []
    },
    {
      "cell_type": "code",
      "metadata": {
        "id": "Ad3g9mRfSd8B",
        "colab_type": "code",
        "colab": {}
      },
      "source": [
        "total = np.sum(tran_data['texts_number'])\n",
        "\n",
        "tran_data['texts_percent'] = tran_data['texts_number'] / total"
      ],
      "execution_count": 0,
      "outputs": []
    },
    {
      "cell_type": "code",
      "metadata": {
        "id": "4Tz7SHW9RaYu",
        "colab_type": "code",
        "colab": {}
      },
      "source": [
        "translators_df = pd.DataFrame.from_dict(tran_data)\n",
        "translators_df.index = np.arange(1, len(translators_df) + 1)"
      ],
      "execution_count": 0,
      "outputs": []
    },
    {
      "cell_type": "code",
      "metadata": {
        "id": "_9W7Wo8QRlWO",
        "colab_type": "code",
        "colab": {
          "base_uri": "https://localhost:8080/",
          "height": 204
        },
        "outputId": "f1d77243-a38f-4e82-9c0c-d14285693a0f"
      },
      "source": [
        "translators_df.head()"
      ],
      "execution_count": 66,
      "outputs": [
        {
          "output_type": "execute_result",
          "data": {
            "text/html": [
              "<div>\n",
              "<style scoped>\n",
              "    .dataframe tbody tr th:only-of-type {\n",
              "        vertical-align: middle;\n",
              "    }\n",
              "\n",
              "    .dataframe tbody tr th {\n",
              "        vertical-align: top;\n",
              "    }\n",
              "\n",
              "    .dataframe thead th {\n",
              "        text-align: right;\n",
              "    }\n",
              "</style>\n",
              "<table border=\"1\" class=\"dataframe\">\n",
              "  <thead>\n",
              "    <tr style=\"text-align: right;\">\n",
              "      <th></th>\n",
              "      <th>name</th>\n",
              "      <th>texts_number</th>\n",
              "      <th>texts_percent</th>\n",
              "    </tr>\n",
              "  </thead>\n",
              "  <tbody>\n",
              "    <tr>\n",
              "      <th>1</th>\n",
              "      <td>Adrian Esa</td>\n",
              "      <td>1</td>\n",
              "      <td>0.000385</td>\n",
              "    </tr>\n",
              "    <tr>\n",
              "      <th>2</th>\n",
              "      <td>Adriano Dell'Asta</td>\n",
              "      <td>1</td>\n",
              "      <td>0.000385</td>\n",
              "    </tr>\n",
              "    <tr>\n",
              "      <th>3</th>\n",
              "      <td>Aina Rudzroga</td>\n",
              "      <td>2</td>\n",
              "      <td>0.000770</td>\n",
              "    </tr>\n",
              "    <tr>\n",
              "      <th>4</th>\n",
              "      <td>Alena Morávková</td>\n",
              "      <td>2</td>\n",
              "      <td>0.000770</td>\n",
              "    </tr>\n",
              "    <tr>\n",
              "      <th>5</th>\n",
              "      <td>Alessandro Lazzari</td>\n",
              "      <td>2</td>\n",
              "      <td>0.000770</td>\n",
              "    </tr>\n",
              "  </tbody>\n",
              "</table>\n",
              "</div>"
            ],
            "text/plain": [
              "                 name  texts_number  texts_percent\n",
              "1          Adrian Esa             1       0.000385\n",
              "2   Adriano Dell'Asta             1       0.000385\n",
              "3       Aina Rudzroga             2       0.000770\n",
              "4   Alena Morávková             2       0.000770\n",
              "5  Alessandro Lazzari             2       0.000770"
            ]
          },
          "metadata": {
            "tags": []
          },
          "execution_count": 66
        }
      ]
    },
    {
      "cell_type": "code",
      "metadata": {
        "id": "3A9DpMLaRoH9",
        "colab_type": "code",
        "colab": {}
      },
      "source": [
        "translators_df.to_csv('translators.csv')"
      ],
      "execution_count": 0,
      "outputs": []
    },
    {
      "cell_type": "code",
      "metadata": {
        "id": "M1GxvaemRq6S",
        "colab_type": "code",
        "colab": {}
      },
      "source": [
        "files.download('translators.csv')"
      ],
      "execution_count": 0,
      "outputs": []
    },
    {
      "cell_type": "code",
      "metadata": {
        "id": "Nqrd90dY1sXA",
        "colab_type": "code",
        "colab": {}
      },
      "source": [
        ""
      ],
      "execution_count": 0,
      "outputs": []
    }
  ]
}